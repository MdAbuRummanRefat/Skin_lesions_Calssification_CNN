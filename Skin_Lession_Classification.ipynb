{
  "nbformat": 4,
  "nbformat_minor": 0,
  "metadata": {
    "colab": {
      "name": "Skin_Lession_Classification.ipynb",
      "provenance": [],
      "include_colab_link": true
    },
    "kernelspec": {
      "name": "python3",
      "display_name": "Python 3"
    },
    "accelerator": "GPU"
  },
  "cells": [
    {
      "cell_type": "markdown",
      "metadata": {
        "id": "view-in-github",
        "colab_type": "text"
      },
      "source": [
        "<a href=\"https://colab.research.google.com/github/MdAbuRummanRefat/Skin_lesions_Calssification_CNN/blob/main/Skin_Lession_Classification.ipynb\" target=\"_parent\"><img src=\"https://colab.research.google.com/assets/colab-badge.svg\" alt=\"Open In Colab\"/></a>"
      ]
    },
    {
      "cell_type": "code",
      "metadata": {
        "id": "NqSL4Qcf980j",
        "outputId": "4e0e674c-4c6f-45b1-dff2-1162a73f9af7",
        "colab": {
          "base_uri": "https://localhost:8080/",
          "height": 54
        }
      },
      "source": [
        "from google.colab import drive\n",
        "drive.mount('/content/drive')"
      ],
      "execution_count": 1,
      "outputs": [
        {
          "output_type": "stream",
          "text": [
            "Drive already mounted at /content/drive; to attempt to forcibly remount, call drive.mount(\"/content/drive\", force_remount=True).\n"
          ],
          "name": "stdout"
        }
      ]
    },
    {
      "cell_type": "code",
      "metadata": {
        "id": "ltIjC5Zc_JdF"
      },
      "source": [
        "import pandas as pd\n",
        "import numpy as np\n",
        "import matplotlib.pyplot as plt"
      ],
      "execution_count": 2,
      "outputs": []
    },
    {
      "cell_type": "code",
      "metadata": {
        "id": "0M98AreCPyaO",
        "outputId": "49e6b48e-3e2d-463e-fb56-491a1531ea16",
        "colab": {
          "base_uri": "https://localhost:8080/",
          "height": 253
        }
      },
      "source": [
        "data=pd.read_csv('/content/drive/My Drive/Project/hmnist_64_64_RGB.csv')\n",
        "data.head(5)"
      ],
      "execution_count": 3,
      "outputs": [
        {
          "output_type": "execute_result",
          "data": {
            "text/html": [
              "<div>\n",
              "<style scoped>\n",
              "    .dataframe tbody tr th:only-of-type {\n",
              "        vertical-align: middle;\n",
              "    }\n",
              "\n",
              "    .dataframe tbody tr th {\n",
              "        vertical-align: top;\n",
              "    }\n",
              "\n",
              "    .dataframe thead th {\n",
              "        text-align: right;\n",
              "    }\n",
              "</style>\n",
              "<table border=\"1\" class=\"dataframe\">\n",
              "  <thead>\n",
              "    <tr style=\"text-align: right;\">\n",
              "      <th></th>\n",
              "      <th>pixel0000</th>\n",
              "      <th>pixel0001</th>\n",
              "      <th>pixel0002</th>\n",
              "      <th>pixel0003</th>\n",
              "      <th>pixel0004</th>\n",
              "      <th>pixel0005</th>\n",
              "      <th>pixel0006</th>\n",
              "      <th>pixel0007</th>\n",
              "      <th>pixel0008</th>\n",
              "      <th>pixel0009</th>\n",
              "      <th>pixel0010</th>\n",
              "      <th>pixel0011</th>\n",
              "      <th>pixel0012</th>\n",
              "      <th>pixel0013</th>\n",
              "      <th>pixel0014</th>\n",
              "      <th>pixel0015</th>\n",
              "      <th>pixel0016</th>\n",
              "      <th>pixel0017</th>\n",
              "      <th>pixel0018</th>\n",
              "      <th>pixel0019</th>\n",
              "      <th>pixel0020</th>\n",
              "      <th>pixel0021</th>\n",
              "      <th>pixel0022</th>\n",
              "      <th>pixel0023</th>\n",
              "      <th>pixel0024</th>\n",
              "      <th>pixel0025</th>\n",
              "      <th>pixel0026</th>\n",
              "      <th>pixel0027</th>\n",
              "      <th>pixel0028</th>\n",
              "      <th>pixel0029</th>\n",
              "      <th>pixel0030</th>\n",
              "      <th>pixel0031</th>\n",
              "      <th>pixel0032</th>\n",
              "      <th>pixel0033</th>\n",
              "      <th>pixel0034</th>\n",
              "      <th>pixel0035</th>\n",
              "      <th>pixel0036</th>\n",
              "      <th>pixel0037</th>\n",
              "      <th>pixel0038</th>\n",
              "      <th>pixel0039</th>\n",
              "      <th>...</th>\n",
              "      <th>pixel12249</th>\n",
              "      <th>pixel12250</th>\n",
              "      <th>pixel12251</th>\n",
              "      <th>pixel12252</th>\n",
              "      <th>pixel12253</th>\n",
              "      <th>pixel12254</th>\n",
              "      <th>pixel12255</th>\n",
              "      <th>pixel12256</th>\n",
              "      <th>pixel12257</th>\n",
              "      <th>pixel12258</th>\n",
              "      <th>pixel12259</th>\n",
              "      <th>pixel12260</th>\n",
              "      <th>pixel12261</th>\n",
              "      <th>pixel12262</th>\n",
              "      <th>pixel12263</th>\n",
              "      <th>pixel12264</th>\n",
              "      <th>pixel12265</th>\n",
              "      <th>pixel12266</th>\n",
              "      <th>pixel12267</th>\n",
              "      <th>pixel12268</th>\n",
              "      <th>pixel12269</th>\n",
              "      <th>pixel12270</th>\n",
              "      <th>pixel12271</th>\n",
              "      <th>pixel12272</th>\n",
              "      <th>pixel12273</th>\n",
              "      <th>pixel12274</th>\n",
              "      <th>pixel12275</th>\n",
              "      <th>pixel12276</th>\n",
              "      <th>pixel12277</th>\n",
              "      <th>pixel12278</th>\n",
              "      <th>pixel12279</th>\n",
              "      <th>pixel12280</th>\n",
              "      <th>pixel12281</th>\n",
              "      <th>pixel12282</th>\n",
              "      <th>pixel12283</th>\n",
              "      <th>pixel12284</th>\n",
              "      <th>pixel12285</th>\n",
              "      <th>pixel12286</th>\n",
              "      <th>pixel12287</th>\n",
              "      <th>label</th>\n",
              "    </tr>\n",
              "  </thead>\n",
              "  <tbody>\n",
              "    <tr>\n",
              "      <th>0</th>\n",
              "      <td>191</td>\n",
              "      <td>152</td>\n",
              "      <td>194</td>\n",
              "      <td>191</td>\n",
              "      <td>153</td>\n",
              "      <td>195</td>\n",
              "      <td>192</td>\n",
              "      <td>149</td>\n",
              "      <td>192</td>\n",
              "      <td>194</td>\n",
              "      <td>151</td>\n",
              "      <td>188</td>\n",
              "      <td>193</td>\n",
              "      <td>149</td>\n",
              "      <td>182</td>\n",
              "      <td>193</td>\n",
              "      <td>150</td>\n",
              "      <td>181</td>\n",
              "      <td>195</td>\n",
              "      <td>154</td>\n",
              "      <td>185</td>\n",
              "      <td>195</td>\n",
              "      <td>156</td>\n",
              "      <td>189</td>\n",
              "      <td>203</td>\n",
              "      <td>164</td>\n",
              "      <td>196</td>\n",
              "      <td>206</td>\n",
              "      <td>166</td>\n",
              "      <td>203</td>\n",
              "      <td>209</td>\n",
              "      <td>165</td>\n",
              "      <td>201</td>\n",
              "      <td>211</td>\n",
              "      <td>166</td>\n",
              "      <td>206</td>\n",
              "      <td>209</td>\n",
              "      <td>165</td>\n",
              "      <td>206</td>\n",
              "      <td>203</td>\n",
              "      <td>...</td>\n",
              "      <td>202</td>\n",
              "      <td>167</td>\n",
              "      <td>183</td>\n",
              "      <td>199</td>\n",
              "      <td>159</td>\n",
              "      <td>175</td>\n",
              "      <td>189</td>\n",
              "      <td>141</td>\n",
              "      <td>148</td>\n",
              "      <td>184</td>\n",
              "      <td>131</td>\n",
              "      <td>136</td>\n",
              "      <td>180</td>\n",
              "      <td>128</td>\n",
              "      <td>136</td>\n",
              "      <td>179</td>\n",
              "      <td>127</td>\n",
              "      <td>141</td>\n",
              "      <td>176</td>\n",
              "      <td>129</td>\n",
              "      <td>149</td>\n",
              "      <td>175</td>\n",
              "      <td>127</td>\n",
              "      <td>145</td>\n",
              "      <td>179</td>\n",
              "      <td>136</td>\n",
              "      <td>157</td>\n",
              "      <td>182</td>\n",
              "      <td>146</td>\n",
              "      <td>164</td>\n",
              "      <td>185</td>\n",
              "      <td>154</td>\n",
              "      <td>180</td>\n",
              "      <td>186</td>\n",
              "      <td>156</td>\n",
              "      <td>184</td>\n",
              "      <td>182</td>\n",
              "      <td>152</td>\n",
              "      <td>173</td>\n",
              "      <td>2</td>\n",
              "    </tr>\n",
              "    <tr>\n",
              "      <th>1</th>\n",
              "      <td>24</td>\n",
              "      <td>13</td>\n",
              "      <td>23</td>\n",
              "      <td>24</td>\n",
              "      <td>14</td>\n",
              "      <td>28</td>\n",
              "      <td>37</td>\n",
              "      <td>24</td>\n",
              "      <td>46</td>\n",
              "      <td>61</td>\n",
              "      <td>44</td>\n",
              "      <td>70</td>\n",
              "      <td>90</td>\n",
              "      <td>66</td>\n",
              "      <td>97</td>\n",
              "      <td>111</td>\n",
              "      <td>83</td>\n",
              "      <td>118</td>\n",
              "      <td>127</td>\n",
              "      <td>98</td>\n",
              "      <td>129</td>\n",
              "      <td>144</td>\n",
              "      <td>112</td>\n",
              "      <td>141</td>\n",
              "      <td>161</td>\n",
              "      <td>131</td>\n",
              "      <td>159</td>\n",
              "      <td>169</td>\n",
              "      <td>138</td>\n",
              "      <td>165</td>\n",
              "      <td>171</td>\n",
              "      <td>135</td>\n",
              "      <td>159</td>\n",
              "      <td>173</td>\n",
              "      <td>135</td>\n",
              "      <td>156</td>\n",
              "      <td>178</td>\n",
              "      <td>138</td>\n",
              "      <td>164</td>\n",
              "      <td>178</td>\n",
              "      <td>...</td>\n",
              "      <td>176</td>\n",
              "      <td>132</td>\n",
              "      <td>147</td>\n",
              "      <td>163</td>\n",
              "      <td>121</td>\n",
              "      <td>129</td>\n",
              "      <td>143</td>\n",
              "      <td>96</td>\n",
              "      <td>96</td>\n",
              "      <td>129</td>\n",
              "      <td>89</td>\n",
              "      <td>90</td>\n",
              "      <td>111</td>\n",
              "      <td>76</td>\n",
              "      <td>74</td>\n",
              "      <td>92</td>\n",
              "      <td>60</td>\n",
              "      <td>64</td>\n",
              "      <td>69</td>\n",
              "      <td>46</td>\n",
              "      <td>56</td>\n",
              "      <td>44</td>\n",
              "      <td>27</td>\n",
              "      <td>43</td>\n",
              "      <td>30</td>\n",
              "      <td>16</td>\n",
              "      <td>34</td>\n",
              "      <td>27</td>\n",
              "      <td>14</td>\n",
              "      <td>30</td>\n",
              "      <td>26</td>\n",
              "      <td>15</td>\n",
              "      <td>29</td>\n",
              "      <td>27</td>\n",
              "      <td>15</td>\n",
              "      <td>28</td>\n",
              "      <td>24</td>\n",
              "      <td>13</td>\n",
              "      <td>25</td>\n",
              "      <td>2</td>\n",
              "    </tr>\n",
              "    <tr>\n",
              "      <th>2</th>\n",
              "      <td>185</td>\n",
              "      <td>129</td>\n",
              "      <td>140</td>\n",
              "      <td>192</td>\n",
              "      <td>136</td>\n",
              "      <td>151</td>\n",
              "      <td>198</td>\n",
              "      <td>142</td>\n",
              "      <td>156</td>\n",
              "      <td>198</td>\n",
              "      <td>140</td>\n",
              "      <td>154</td>\n",
              "      <td>199</td>\n",
              "      <td>141</td>\n",
              "      <td>158</td>\n",
              "      <td>199</td>\n",
              "      <td>141</td>\n",
              "      <td>159</td>\n",
              "      <td>205</td>\n",
              "      <td>147</td>\n",
              "      <td>162</td>\n",
              "      <td>205</td>\n",
              "      <td>151</td>\n",
              "      <td>167</td>\n",
              "      <td>208</td>\n",
              "      <td>154</td>\n",
              "      <td>171</td>\n",
              "      <td>207</td>\n",
              "      <td>147</td>\n",
              "      <td>161</td>\n",
              "      <td>204</td>\n",
              "      <td>146</td>\n",
              "      <td>153</td>\n",
              "      <td>207</td>\n",
              "      <td>154</td>\n",
              "      <td>161</td>\n",
              "      <td>209</td>\n",
              "      <td>156</td>\n",
              "      <td>163</td>\n",
              "      <td>210</td>\n",
              "      <td>...</td>\n",
              "      <td>199</td>\n",
              "      <td>156</td>\n",
              "      <td>175</td>\n",
              "      <td>190</td>\n",
              "      <td>147</td>\n",
              "      <td>171</td>\n",
              "      <td>194</td>\n",
              "      <td>154</td>\n",
              "      <td>183</td>\n",
              "      <td>197</td>\n",
              "      <td>152</td>\n",
              "      <td>172</td>\n",
              "      <td>175</td>\n",
              "      <td>129</td>\n",
              "      <td>140</td>\n",
              "      <td>160</td>\n",
              "      <td>117</td>\n",
              "      <td>132</td>\n",
              "      <td>163</td>\n",
              "      <td>127</td>\n",
              "      <td>141</td>\n",
              "      <td>161</td>\n",
              "      <td>128</td>\n",
              "      <td>140</td>\n",
              "      <td>161</td>\n",
              "      <td>128</td>\n",
              "      <td>144</td>\n",
              "      <td>155</td>\n",
              "      <td>122</td>\n",
              "      <td>139</td>\n",
              "      <td>152</td>\n",
              "      <td>120</td>\n",
              "      <td>138</td>\n",
              "      <td>144</td>\n",
              "      <td>113</td>\n",
              "      <td>123</td>\n",
              "      <td>115</td>\n",
              "      <td>81</td>\n",
              "      <td>84</td>\n",
              "      <td>2</td>\n",
              "    </tr>\n",
              "    <tr>\n",
              "      <th>3</th>\n",
              "      <td>24</td>\n",
              "      <td>11</td>\n",
              "      <td>19</td>\n",
              "      <td>36</td>\n",
              "      <td>19</td>\n",
              "      <td>30</td>\n",
              "      <td>64</td>\n",
              "      <td>38</td>\n",
              "      <td>50</td>\n",
              "      <td>91</td>\n",
              "      <td>60</td>\n",
              "      <td>71</td>\n",
              "      <td>111</td>\n",
              "      <td>71</td>\n",
              "      <td>87</td>\n",
              "      <td>130</td>\n",
              "      <td>91</td>\n",
              "      <td>106</td>\n",
              "      <td>150</td>\n",
              "      <td>114</td>\n",
              "      <td>129</td>\n",
              "      <td>160</td>\n",
              "      <td>116</td>\n",
              "      <td>124</td>\n",
              "      <td>167</td>\n",
              "      <td>110</td>\n",
              "      <td>111</td>\n",
              "      <td>168</td>\n",
              "      <td>100</td>\n",
              "      <td>101</td>\n",
              "      <td>176</td>\n",
              "      <td>110</td>\n",
              "      <td>116</td>\n",
              "      <td>184</td>\n",
              "      <td>131</td>\n",
              "      <td>144</td>\n",
              "      <td>191</td>\n",
              "      <td>141</td>\n",
              "      <td>152</td>\n",
              "      <td>191</td>\n",
              "      <td>...</td>\n",
              "      <td>154</td>\n",
              "      <td>124</td>\n",
              "      <td>138</td>\n",
              "      <td>143</td>\n",
              "      <td>111</td>\n",
              "      <td>126</td>\n",
              "      <td>129</td>\n",
              "      <td>100</td>\n",
              "      <td>111</td>\n",
              "      <td>102</td>\n",
              "      <td>74</td>\n",
              "      <td>80</td>\n",
              "      <td>94</td>\n",
              "      <td>73</td>\n",
              "      <td>86</td>\n",
              "      <td>74</td>\n",
              "      <td>47</td>\n",
              "      <td>61</td>\n",
              "      <td>52</td>\n",
              "      <td>32</td>\n",
              "      <td>45</td>\n",
              "      <td>33</td>\n",
              "      <td>17</td>\n",
              "      <td>25</td>\n",
              "      <td>28</td>\n",
              "      <td>13</td>\n",
              "      <td>19</td>\n",
              "      <td>27</td>\n",
              "      <td>13</td>\n",
              "      <td>17</td>\n",
              "      <td>27</td>\n",
              "      <td>13</td>\n",
              "      <td>16</td>\n",
              "      <td>25</td>\n",
              "      <td>12</td>\n",
              "      <td>16</td>\n",
              "      <td>24</td>\n",
              "      <td>9</td>\n",
              "      <td>14</td>\n",
              "      <td>2</td>\n",
              "    </tr>\n",
              "    <tr>\n",
              "      <th>4</th>\n",
              "      <td>138</td>\n",
              "      <td>94</td>\n",
              "      <td>117</td>\n",
              "      <td>158</td>\n",
              "      <td>113</td>\n",
              "      <td>138</td>\n",
              "      <td>178</td>\n",
              "      <td>133</td>\n",
              "      <td>161</td>\n",
              "      <td>191</td>\n",
              "      <td>143</td>\n",
              "      <td>172</td>\n",
              "      <td>202</td>\n",
              "      <td>150</td>\n",
              "      <td>173</td>\n",
              "      <td>212</td>\n",
              "      <td>160</td>\n",
              "      <td>185</td>\n",
              "      <td>216</td>\n",
              "      <td>162</td>\n",
              "      <td>191</td>\n",
              "      <td>222</td>\n",
              "      <td>175</td>\n",
              "      <td>209</td>\n",
              "      <td>227</td>\n",
              "      <td>183</td>\n",
              "      <td>219</td>\n",
              "      <td>229</td>\n",
              "      <td>183</td>\n",
              "      <td>216</td>\n",
              "      <td>232</td>\n",
              "      <td>188</td>\n",
              "      <td>221</td>\n",
              "      <td>234</td>\n",
              "      <td>193</td>\n",
              "      <td>222</td>\n",
              "      <td>234</td>\n",
              "      <td>191</td>\n",
              "      <td>218</td>\n",
              "      <td>235</td>\n",
              "      <td>...</td>\n",
              "      <td>221</td>\n",
              "      <td>169</td>\n",
              "      <td>202</td>\n",
              "      <td>226</td>\n",
              "      <td>167</td>\n",
              "      <td>201</td>\n",
              "      <td>226</td>\n",
              "      <td>164</td>\n",
              "      <td>197</td>\n",
              "      <td>224</td>\n",
              "      <td>176</td>\n",
              "      <td>203</td>\n",
              "      <td>224</td>\n",
              "      <td>178</td>\n",
              "      <td>206</td>\n",
              "      <td>222</td>\n",
              "      <td>181</td>\n",
              "      <td>206</td>\n",
              "      <td>213</td>\n",
              "      <td>170</td>\n",
              "      <td>191</td>\n",
              "      <td>200</td>\n",
              "      <td>155</td>\n",
              "      <td>177</td>\n",
              "      <td>187</td>\n",
              "      <td>148</td>\n",
              "      <td>164</td>\n",
              "      <td>164</td>\n",
              "      <td>128</td>\n",
              "      <td>140</td>\n",
              "      <td>140</td>\n",
              "      <td>106</td>\n",
              "      <td>118</td>\n",
              "      <td>108</td>\n",
              "      <td>77</td>\n",
              "      <td>92</td>\n",
              "      <td>67</td>\n",
              "      <td>40</td>\n",
              "      <td>55</td>\n",
              "      <td>2</td>\n",
              "    </tr>\n",
              "  </tbody>\n",
              "</table>\n",
              "<p>5 rows × 12289 columns</p>\n",
              "</div>"
            ],
            "text/plain": [
              "   pixel0000  pixel0001  pixel0002  ...  pixel12286  pixel12287  label\n",
              "0        191        152        194  ...         152         173      2\n",
              "1         24         13         23  ...          13          25      2\n",
              "2        185        129        140  ...          81          84      2\n",
              "3         24         11         19  ...           9          14      2\n",
              "4        138         94        117  ...          40          55      2\n",
              "\n",
              "[5 rows x 12289 columns]"
            ]
          },
          "metadata": {
            "tags": []
          },
          "execution_count": 3
        }
      ]
    },
    {
      "cell_type": "code",
      "metadata": {
        "id": "td19KUE-Pyez"
      },
      "source": [
        "X = data.drop(\"label\", axis=1).values\n",
        "label = data[\"label\"].values"
      ],
      "execution_count": 4,
      "outputs": []
    },
    {
      "cell_type": "code",
      "metadata": {
        "id": "W2DKINsLKwlI",
        "outputId": "9f000828-59ca-4685-a7ee-23481c012c6e",
        "colab": {
          "base_uri": "https://localhost:8080/",
          "height": 34
        }
      },
      "source": [
        "X.shape, label.shape"
      ],
      "execution_count": 5,
      "outputs": [
        {
          "output_type": "execute_result",
          "data": {
            "text/plain": [
              "((10015, 12288), (10015,))"
            ]
          },
          "metadata": {
            "tags": []
          },
          "execution_count": 5
        }
      ]
    },
    {
      "cell_type": "code",
      "metadata": {
        "id": "BRDQM312KgRQ"
      },
      "source": [
        "X_mean = np.mean(X)\n",
        "X_std = np.std(X)\n",
        "\n",
        "X = (X - X_mean)/X_std"
      ],
      "execution_count": 6,
      "outputs": []
    },
    {
      "cell_type": "code",
      "metadata": {
        "id": "oFrGGJ0GLR3a"
      },
      "source": [
        "from sklearn.model_selection import train_test_split\n",
        "X_train,X_test_temp,y_train,y_test_temp=train_test_split(X,label,test_size=0.1,random_state=42)\n",
        "X_val,X_test,y_val,y_test=train_test_split(X_test_temp,y_test_temp,test_size=.5,random_state=41)"
      ],
      "execution_count": 7,
      "outputs": []
    },
    {
      "cell_type": "code",
      "metadata": {
        "id": "EWM8wJ2_Sazh",
        "outputId": "f8eaf77a-ed25-4f29-bd32-019863c3bd1e",
        "colab": {
          "base_uri": "https://localhost:8080/",
          "height": 34
        }
      },
      "source": [
        "X_train.shape, X_val.shape, y_train.shape, y_val.shape"
      ],
      "execution_count": 8,
      "outputs": [
        {
          "output_type": "execute_result",
          "data": {
            "text/plain": [
              "((9013, 12288), (501, 12288), (9013,), (501,))"
            ]
          },
          "metadata": {
            "tags": []
          },
          "execution_count": 8
        }
      ]
    },
    {
      "cell_type": "code",
      "metadata": {
        "id": "D5LTjLCOPyQ_"
      },
      "source": [
        "from keras.utils import to_categorical\n",
        "def pre_processing(X,Y):\n",
        "    X = X.reshape(-1,64,64,3)\n",
        "    X = X/255.0\n",
        "    Y = to_categorical(Y) \n",
        "    return X,Y"
      ],
      "execution_count": 9,
      "outputs": []
    },
    {
      "cell_type": "code",
      "metadata": {
        "id": "-QSeJgY2LtMw"
      },
      "source": [
        "X_train,y_train=pre_processing(X_train,y_train)\n",
        "X_test,y_test=pre_processing(X_test,y_test)\n",
        "X_val,y_val=pre_processing(X_val,y_val)"
      ],
      "execution_count": 10,
      "outputs": []
    },
    {
      "cell_type": "code",
      "metadata": {
        "id": "OUTpC26VXHFL",
        "outputId": "fa0159ab-800e-4861-d918-3cb2a00c005a",
        "colab": {
          "base_uri": "https://localhost:8080/",
          "height": 119
        }
      },
      "source": [
        "X_train.shape, X_val.shape, X_test.shape,y_train.shape, y_val.shape, y_test.shape"
      ],
      "execution_count": 11,
      "outputs": [
        {
          "output_type": "execute_result",
          "data": {
            "text/plain": [
              "((9013, 64, 64, 3),\n",
              " (501, 64, 64, 3),\n",
              " (501, 64, 64, 3),\n",
              " (9013, 7),\n",
              " (501, 7),\n",
              " (501, 7))"
            ]
          },
          "metadata": {
            "tags": []
          },
          "execution_count": 11
        }
      ]
    },
    {
      "cell_type": "code",
      "metadata": {
        "id": "5PT0vbO_YK4Z"
      },
      "source": [
        "from keras.models import Sequential\n",
        "from keras.models import Model\n",
        "from keras.layers import Activation,Dropout, Conv2D\n",
        "from keras.layers import AveragePooling2D,  MaxPooling2D\n",
        "from keras.layers import GlobalAveragePooling2D\n",
        "from keras.layers import Flatten\n",
        "from keras.layers import Input\n",
        "from keras.layers import Dense\n",
        "from keras.layers import BatchNormalization\n",
        "from keras.layers import SeparableConv2D\n",
        "from keras.regularizers import l2\n",
        "from keras.optimizers import  Adam"
      ],
      "execution_count": 17,
      "outputs": []
    },
    {
      "cell_type": "code",
      "metadata": {
        "id": "w2v7oDJR-dUV"
      },
      "source": [
        "# Our input feature map is 64x64x3: 64x64 for the image pixels, and 3 for\n",
        "# the three color channels: R, G, and B\n",
        "img_input = Input(shape=(64, 64, 3))\n",
        "\n",
        "# First convolution extracts 16 filters that are 3x3\n",
        "# Convolution is followed by max-pooling layer with a 2x2 window\n",
        "x = Conv2D(16, 3, activation='relu', padding='same')(img_input)\n",
        "x = MaxPooling2D(2)(x)\n",
        "\n",
        "# Second convolution extracts 32 filters that are 3x3\n",
        "# Convolution is followed by max-pooling layer with a 2x2 window\n",
        "x = Conv2D(32, 3, activation='relu', padding='same')(x)\n",
        "x = MaxPooling2D(2)(x)\n",
        "\n",
        "# Third convolution extracts 64 filters that are 3x3\n",
        "# Convolution is followed by max-pooling layer with a 2x2 window\n",
        "x = Conv2D(64, 3, activation='relu', padding='same')(x)\n",
        "x = MaxPooling2D(2)(x)\n",
        "\n",
        "# Flatten feature map to a 1-dim tensor\n",
        "x = Flatten()(x)\n",
        "\n",
        "# Create a fully connected layer with ReLU activation and 512 hidden units\n",
        "x = Dense(512, activation='relu')(x)\n",
        "\n",
        "# Add a dropout rate of 0.5\n",
        "x = Dropout(0.5)(x)\n",
        "\n",
        "# Create output layer with a single node and sigmoid activation\n",
        "output = Dense(7, activation='softmax')(x)\n",
        "\n",
        "# Configure and compile the model\n",
        "model = Model(img_input, output)\n",
        "\n",
        "optimizer = Adam(lr=0.001, beta_1=0.9, beta_2=0.999, epsilon=None, decay=0.0, amsgrad=False)\n",
        "\n",
        "model.compile(loss='categorical_crossentropy', optimizer=optimizer, metrics=['accuracy'])"
      ],
      "execution_count": 18,
      "outputs": []
    },
    {
      "cell_type": "code",
      "metadata": {
        "id": "MceXzrIV-hYt",
        "outputId": "c3084c84-751f-436d-af0a-30213cdd6f0d",
        "colab": {
          "base_uri": "https://localhost:8080/",
          "height": 527
        }
      },
      "source": [
        "model.summary()"
      ],
      "execution_count": 19,
      "outputs": [
        {
          "output_type": "stream",
          "text": [
            "Model: \"functional_3\"\n",
            "_________________________________________________________________\n",
            "Layer (type)                 Output Shape              Param #   \n",
            "=================================================================\n",
            "input_4 (InputLayer)         [(None, 64, 64, 3)]       0         \n",
            "_________________________________________________________________\n",
            "conv2d_8 (Conv2D)            (None, 64, 64, 16)        448       \n",
            "_________________________________________________________________\n",
            "max_pooling2d_8 (MaxPooling2 (None, 32, 32, 16)        0         \n",
            "_________________________________________________________________\n",
            "conv2d_9 (Conv2D)            (None, 32, 32, 32)        4640      \n",
            "_________________________________________________________________\n",
            "max_pooling2d_9 (MaxPooling2 (None, 16, 16, 32)        0         \n",
            "_________________________________________________________________\n",
            "conv2d_10 (Conv2D)           (None, 16, 16, 64)        18496     \n",
            "_________________________________________________________________\n",
            "max_pooling2d_10 (MaxPooling (None, 8, 8, 64)          0         \n",
            "_________________________________________________________________\n",
            "flatten_2 (Flatten)          (None, 4096)              0         \n",
            "_________________________________________________________________\n",
            "dense_2 (Dense)              (None, 512)               2097664   \n",
            "_________________________________________________________________\n",
            "dropout_1 (Dropout)          (None, 512)               0         \n",
            "_________________________________________________________________\n",
            "dense_3 (Dense)              (None, 7)                 3591      \n",
            "=================================================================\n",
            "Total params: 2,124,839\n",
            "Trainable params: 2,124,839\n",
            "Non-trainable params: 0\n",
            "_________________________________________________________________\n"
          ],
          "name": "stdout"
        }
      ]
    },
    {
      "cell_type": "code",
      "metadata": {
        "id": "iYxzXM3W_Vmj"
      },
      "source": [
        "from keras.preprocessing.image import  ImageDataGenerator\n",
        "train_datagen = ImageDataGenerator(rotation_range=40, width_shift_range=0.2, height_shift_range=0.2,\n",
        "                             shear_range=0.2, zoom_range=0.2, horizontal_flip=True, fill_mode='nearest')\n",
        "\n",
        "train_datagen.fit(X_train)\n",
        "\n",
        "val_datagen = ImageDataGenerator()\n",
        "val_datagen.fit(X_val)"
      ],
      "execution_count": 20,
      "outputs": []
    },
    {
      "cell_type": "code",
      "metadata": {
        "id": "X9u4UubBBlIj"
      },
      "source": [
        "\n",
        "from keras.callbacks import CSVLogger, ModelCheckpoint, EarlyStopping\n",
        "from keras.callbacks import ReduceLROnPlateau\n",
        "\n",
        "reduce_lr = ReduceLROnPlateau(monitor='val_accuracy', patience=3, verbose=1, \n",
        "                              factor=0.5, min_lr=0.00001)"
      ],
      "execution_count": 21,
      "outputs": []
    },
    {
      "cell_type": "code",
      "metadata": {
        "id": "m9B3xkaFO30B"
      },
      "source": [
        "batch_size = 64\n",
        "epochs = 30"
      ],
      "execution_count": 22,
      "outputs": []
    },
    {
      "cell_type": "code",
      "metadata": {
        "id": "mry-HtEaCXAj",
        "outputId": "e74dad08-eb95-4bae-cd1e-162c36aa1a6b",
        "colab": {
          "base_uri": "https://localhost:8080/",
          "height": 1000
        }
      },
      "source": [
        "history = model.fit(train_datagen.flow(X_train,y_train, batch_size=batch_size),\n",
        "                              epochs = epochs, validation_data = val_datagen.flow(X_val, y_val),\n",
        "                              verbose = 2, steps_per_epoch=(X_train.shape[0] // batch_size),\n",
        "                              callbacks=[reduce_lr])"
      ],
      "execution_count": 25,
      "outputs": [
        {
          "output_type": "stream",
          "text": [
            "Epoch 1/30\n",
            "WARNING:tensorflow:Reduce LR on plateau conditioned on metric `val_acc` which is not available. Available metrics are: loss,accuracy,val_loss,val_accuracy,lr\n",
            "140/140 - 9s - loss: 0.9385 - accuracy: 0.6707 - val_loss: 0.9222 - val_accuracy: 0.6547\n",
            "Epoch 2/30\n",
            "WARNING:tensorflow:Reduce LR on plateau conditioned on metric `val_acc` which is not available. Available metrics are: loss,accuracy,val_loss,val_accuracy,lr\n",
            "140/140 - 9s - loss: 0.9103 - accuracy: 0.6740 - val_loss: 0.8987 - val_accuracy: 0.6547\n",
            "Epoch 3/30\n",
            "WARNING:tensorflow:Reduce LR on plateau conditioned on metric `val_acc` which is not available. Available metrics are: loss,accuracy,val_loss,val_accuracy,lr\n",
            "140/140 - 9s - loss: 0.8833 - accuracy: 0.6745 - val_loss: 0.8921 - val_accuracy: 0.6587\n",
            "Epoch 4/30\n",
            "WARNING:tensorflow:Reduce LR on plateau conditioned on metric `val_acc` which is not available. Available metrics are: loss,accuracy,val_loss,val_accuracy,lr\n",
            "140/140 - 9s - loss: 0.8687 - accuracy: 0.6780 - val_loss: 0.8835 - val_accuracy: 0.6627\n",
            "Epoch 5/30\n",
            "WARNING:tensorflow:Reduce LR on plateau conditioned on metric `val_acc` which is not available. Available metrics are: loss,accuracy,val_loss,val_accuracy,lr\n",
            "140/140 - 9s - loss: 0.8617 - accuracy: 0.6906 - val_loss: 0.8466 - val_accuracy: 0.6846\n",
            "Epoch 6/30\n",
            "WARNING:tensorflow:Reduce LR on plateau conditioned on metric `val_acc` which is not available. Available metrics are: loss,accuracy,val_loss,val_accuracy,lr\n",
            "140/140 - 9s - loss: 0.8477 - accuracy: 0.6918 - val_loss: 0.8523 - val_accuracy: 0.6906\n",
            "Epoch 7/30\n",
            "WARNING:tensorflow:Reduce LR on plateau conditioned on metric `val_acc` which is not available. Available metrics are: loss,accuracy,val_loss,val_accuracy,lr\n",
            "140/140 - 9s - loss: 0.8429 - accuracy: 0.6940 - val_loss: 0.8382 - val_accuracy: 0.6826\n",
            "Epoch 8/30\n",
            "WARNING:tensorflow:Reduce LR on plateau conditioned on metric `val_acc` which is not available. Available metrics are: loss,accuracy,val_loss,val_accuracy,lr\n",
            "140/140 - 9s - loss: 0.8271 - accuracy: 0.6945 - val_loss: 0.8283 - val_accuracy: 0.6886\n",
            "Epoch 9/30\n",
            "WARNING:tensorflow:Reduce LR on plateau conditioned on metric `val_acc` which is not available. Available metrics are: loss,accuracy,val_loss,val_accuracy,lr\n",
            "140/140 - 9s - loss: 0.8223 - accuracy: 0.7007 - val_loss: 0.8188 - val_accuracy: 0.6906\n",
            "Epoch 10/30\n",
            "WARNING:tensorflow:Reduce LR on plateau conditioned on metric `val_acc` which is not available. Available metrics are: loss,accuracy,val_loss,val_accuracy,lr\n",
            "140/140 - 9s - loss: 0.8159 - accuracy: 0.7019 - val_loss: 0.8376 - val_accuracy: 0.6766\n",
            "Epoch 11/30\n",
            "WARNING:tensorflow:Reduce LR on plateau conditioned on metric `val_acc` which is not available. Available metrics are: loss,accuracy,val_loss,val_accuracy,lr\n",
            "140/140 - 9s - loss: 0.8120 - accuracy: 0.7007 - val_loss: 0.8137 - val_accuracy: 0.6946\n",
            "Epoch 12/30\n",
            "WARNING:tensorflow:Reduce LR on plateau conditioned on metric `val_acc` which is not available. Available metrics are: loss,accuracy,val_loss,val_accuracy,lr\n",
            "140/140 - 9s - loss: 0.7991 - accuracy: 0.7048 - val_loss: 0.8050 - val_accuracy: 0.7066\n",
            "Epoch 13/30\n",
            "WARNING:tensorflow:Reduce LR on plateau conditioned on metric `val_acc` which is not available. Available metrics are: loss,accuracy,val_loss,val_accuracy,lr\n",
            "140/140 - 9s - loss: 0.7968 - accuracy: 0.7077 - val_loss: 0.7724 - val_accuracy: 0.7046\n",
            "Epoch 14/30\n",
            "WARNING:tensorflow:Reduce LR on plateau conditioned on metric `val_acc` which is not available. Available metrics are: loss,accuracy,val_loss,val_accuracy,lr\n",
            "140/140 - 9s - loss: 0.7961 - accuracy: 0.7066 - val_loss: 0.7744 - val_accuracy: 0.7206\n",
            "Epoch 15/30\n",
            "WARNING:tensorflow:Reduce LR on plateau conditioned on metric `val_acc` which is not available. Available metrics are: loss,accuracy,val_loss,val_accuracy,lr\n",
            "140/140 - 9s - loss: 0.7783 - accuracy: 0.7123 - val_loss: 0.7608 - val_accuracy: 0.7026\n",
            "Epoch 16/30\n",
            "WARNING:tensorflow:Reduce LR on plateau conditioned on metric `val_acc` which is not available. Available metrics are: loss,accuracy,val_loss,val_accuracy,lr\n",
            "140/140 - 9s - loss: 0.7694 - accuracy: 0.7162 - val_loss: 0.7757 - val_accuracy: 0.7026\n",
            "Epoch 17/30\n",
            "WARNING:tensorflow:Reduce LR on plateau conditioned on metric `val_acc` which is not available. Available metrics are: loss,accuracy,val_loss,val_accuracy,lr\n",
            "140/140 - 9s - loss: 0.7559 - accuracy: 0.7216 - val_loss: 0.7598 - val_accuracy: 0.7026\n",
            "Epoch 18/30\n",
            "WARNING:tensorflow:Reduce LR on plateau conditioned on metric `val_acc` which is not available. Available metrics are: loss,accuracy,val_loss,val_accuracy,lr\n",
            "140/140 - 9s - loss: 0.7512 - accuracy: 0.7206 - val_loss: 0.7627 - val_accuracy: 0.7146\n",
            "Epoch 19/30\n",
            "WARNING:tensorflow:Reduce LR on plateau conditioned on metric `val_acc` which is not available. Available metrics are: loss,accuracy,val_loss,val_accuracy,lr\n",
            "140/140 - 9s - loss: 0.7431 - accuracy: 0.7252 - val_loss: 0.7297 - val_accuracy: 0.7146\n",
            "Epoch 20/30\n",
            "WARNING:tensorflow:Reduce LR on plateau conditioned on metric `val_acc` which is not available. Available metrics are: loss,accuracy,val_loss,val_accuracy,lr\n",
            "140/140 - 9s - loss: 0.7353 - accuracy: 0.7224 - val_loss: 0.7268 - val_accuracy: 0.7126\n",
            "Epoch 21/30\n",
            "WARNING:tensorflow:Reduce LR on plateau conditioned on metric `val_acc` which is not available. Available metrics are: loss,accuracy,val_loss,val_accuracy,lr\n",
            "140/140 - 9s - loss: 0.7205 - accuracy: 0.7272 - val_loss: 0.7112 - val_accuracy: 0.7246\n",
            "Epoch 22/30\n",
            "WARNING:tensorflow:Reduce LR on plateau conditioned on metric `val_acc` which is not available. Available metrics are: loss,accuracy,val_loss,val_accuracy,lr\n",
            "140/140 - 9s - loss: 0.7324 - accuracy: 0.7316 - val_loss: 0.7330 - val_accuracy: 0.7285\n",
            "Epoch 23/30\n",
            "WARNING:tensorflow:Reduce LR on plateau conditioned on metric `val_acc` which is not available. Available metrics are: loss,accuracy,val_loss,val_accuracy,lr\n",
            "140/140 - 9s - loss: 0.7152 - accuracy: 0.7310 - val_loss: 0.7029 - val_accuracy: 0.7285\n",
            "Epoch 24/30\n",
            "WARNING:tensorflow:Reduce LR on plateau conditioned on metric `val_acc` which is not available. Available metrics are: loss,accuracy,val_loss,val_accuracy,lr\n",
            "140/140 - 9s - loss: 0.7165 - accuracy: 0.7316 - val_loss: 0.7269 - val_accuracy: 0.7166\n",
            "Epoch 25/30\n",
            "WARNING:tensorflow:Reduce LR on plateau conditioned on metric `val_acc` which is not available. Available metrics are: loss,accuracy,val_loss,val_accuracy,lr\n",
            "140/140 - 9s - loss: 0.7031 - accuracy: 0.7354 - val_loss: 0.7129 - val_accuracy: 0.7445\n",
            "Epoch 26/30\n",
            "WARNING:tensorflow:Reduce LR on plateau conditioned on metric `val_acc` which is not available. Available metrics are: loss,accuracy,val_loss,val_accuracy,lr\n",
            "140/140 - 9s - loss: 0.6926 - accuracy: 0.7362 - val_loss: 0.6952 - val_accuracy: 0.7285\n",
            "Epoch 27/30\n",
            "WARNING:tensorflow:Reduce LR on plateau conditioned on metric `val_acc` which is not available. Available metrics are: loss,accuracy,val_loss,val_accuracy,lr\n",
            "140/140 - 9s - loss: 0.6939 - accuracy: 0.7395 - val_loss: 0.7054 - val_accuracy: 0.7265\n",
            "Epoch 28/30\n",
            "WARNING:tensorflow:Reduce LR on plateau conditioned on metric `val_acc` which is not available. Available metrics are: loss,accuracy,val_loss,val_accuracy,lr\n",
            "140/140 - 9s - loss: 0.6884 - accuracy: 0.7425 - val_loss: 0.7202 - val_accuracy: 0.7246\n",
            "Epoch 29/30\n",
            "WARNING:tensorflow:Reduce LR on plateau conditioned on metric `val_acc` which is not available. Available metrics are: loss,accuracy,val_loss,val_accuracy,lr\n",
            "140/140 - 9s - loss: 0.6887 - accuracy: 0.7386 - val_loss: 0.7039 - val_accuracy: 0.7365\n",
            "Epoch 30/30\n",
            "WARNING:tensorflow:Reduce LR on plateau conditioned on metric `val_acc` which is not available. Available metrics are: loss,accuracy,val_loss,val_accuracy,lr\n",
            "140/140 - 9s - loss: 0.6810 - accuracy: 0.7415 - val_loss: 0.6827 - val_accuracy: 0.7425\n"
          ],
          "name": "stdout"
        }
      ]
    },
    {
      "cell_type": "code",
      "metadata": {
        "id": "gfDBRKqeA30t",
        "outputId": "42cbe628-57e3-43a9-e38b-f60b6b6f63d8",
        "colab": {
          "base_uri": "https://localhost:8080/",
          "height": 51
        }
      },
      "source": [
        "model.evaluate(X_test,y_test)"
      ],
      "execution_count": 26,
      "outputs": [
        {
          "output_type": "stream",
          "text": [
            "16/16 [==============================] - 0s 4ms/step - loss: 0.7089 - accuracy: 0.7445\n"
          ],
          "name": "stdout"
        },
        {
          "output_type": "execute_result",
          "data": {
            "text/plain": [
              "[0.7088739275932312, 0.7445109486579895]"
            ]
          },
          "metadata": {
            "tags": []
          },
          "execution_count": 26
        }
      ]
    },
    {
      "cell_type": "code",
      "metadata": {
        "id": "QPbNzaUaPdAW",
        "outputId": "e38ce4f2-e35b-4450-98f0-c22781ba665a",
        "colab": {
          "base_uri": "https://localhost:8080/",
          "height": 295
        }
      },
      "source": [
        "plt.plot(history.history['accuracy'])\n",
        "plt.plot(history.history['val_accuracy'])\n",
        "plt.ylim(.3, 1.0)\n",
        "plt.title('Model accuracy')\n",
        "plt.ylabel('Accuracy')\n",
        "plt.xlabel('Epoch')\n",
        "plt.legend(['Training accuracy', 'Validation accuracy'], loc='lower right')\n",
        "plt.show()"
      ],
      "execution_count": 27,
      "outputs": [
        {
          "output_type": "display_data",
          "data": {
            "image/png": "[encoded data removed]",
            "text/plain": [
              "<Figure size 432x288 with 1 Axes>"
            ]
          },
          "metadata": {
            "tags": [],
            "needs_background": "light"
          }
        }
      ]
    },
    {
      "cell_type": "code",
      "metadata": {
        "id": "DepnuhKIQ4v4"
      },
      "source": [
        "\n",
        "lesion_type_dict = {\n",
        "    'nv': 'Melanocytic nevi',\n",
        "    'mel': 'Melanoma',\n",
        "    'bkl': 'Benign keratosis-like lesions ',\n",
        "    'bcc': 'Basal cell carcinoma',\n",
        "    'akiec': 'Actinic keratoses',\n",
        "    'vasc': 'Vascular lesions',\n",
        "    'df': 'Dermatofibroma'\n",
        "}"
      ],
      "execution_count": 30,
      "outputs": []
    },
    {
      "cell_type": "code",
      "metadata": {
        "id": "w6XSQRV6Plnq",
        "outputId": "c1b85add-312b-4fcd-dff2-4d12bcad7bb5",
        "colab": {
          "base_uri": "https://localhost:8080/",
          "height": 272
        }
      },
      "source": [
        "# make predictions on the testing set\n",
        "print(\"[INFO] evaluating network...\")\n",
        "predIdxs = model.predict(X_val, batch_size=batch_size)\n",
        "\n",
        "# for each image in the testing set we need to find the index of the\n",
        "# label with corresponding largest predicted probability\n",
        "predIdxs = np.argmax(predIdxs, axis=1)\n",
        "from sklearn.metrics import classification_report\n",
        "target_names =[\"nv\", \"ml\",\"bkl\",\"bcc\",\"akice\",\"vasc\",\"df\"]\n",
        "print(classification_report(y_val.argmax(axis=1),\n",
        "                            predIdxs, target_names=target_names))"
      ],
      "execution_count": 33,
      "outputs": [
        {
          "output_type": "stream",
          "text": [
            "[INFO] evaluating network...\n",
            "              precision    recall  f1-score   support\n",
            "\n",
            "          nv       0.50      0.26      0.34        19\n",
            "          ml       0.59      0.71      0.65        28\n",
            "         bkl       0.45      0.31      0.37        54\n",
            "         bcc       1.00      0.17      0.29         6\n",
            "       akice       0.81      0.94      0.87       330\n",
            "        vasc       0.64      0.78      0.70         9\n",
            "          df       0.46      0.20      0.28        55\n",
            "\n",
            "    accuracy                           0.74       501\n",
            "   macro avg       0.63      0.48      0.50       501\n",
            "weighted avg       0.71      0.74      0.71       501\n",
            "\n"
          ],
          "name": "stdout"
        }
      ]
    }
  ]
}